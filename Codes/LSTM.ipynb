{
 "cells": [
  {
   "cell_type": "code",
   "execution_count": 1,
   "id": "5f96cde9",
   "metadata": {},
   "outputs": [],
   "source": [
    "# Specify the root directory containing the subfolders\n",
    "root_directory = 'C:/Users/saisr/OneDrive/Desktop/random forest model/EMG Physical Action Data Set'"
   ]
  },
  {
   "cell_type": "code",
   "execution_count": 2,
   "id": "47a58cd2",
   "metadata": {},
   "outputs": [],
   "source": [
    "import os\n",
    "import glob\n",
    "import csv\n",
    "import pandas as pd\n",
    "import numpy as np\n",
    "from sklearn.model_selection import train_test_split\n",
    "from sklearn.preprocessing import StandardScaler\n",
    "from sklearn.metrics import accuracy_score\n",
    "from sklearn.preprocessing import LabelEncoder\n",
    "from keras.models import Sequential\n",
    "from keras.layers import LSTM, Dense\n",
    "from keras.utils import np_utils"
   ]
  },
  {
   "cell_type": "code",
   "execution_count": 3,
   "id": "740d3105",
   "metadata": {},
   "outputs": [],
   "source": [
    "# Use glob to find all CSV files in the subfolders\n",
    "csv_files = glob.glob(os.path.join(root_directory, '*/*.csv'))\n",
    "# Concatenate all CSV files into a single DataFrame\n",
    "dataset = pd.concat(map(pd.read_csv, csv_files))\n",
    "dataset = dataset.sample(frac=1).reset_index(drop=True)\n",
    "dataset.dropna(axis=0, inplace=True)"
   ]
  },
  {
   "cell_type": "code",
   "execution_count": 4,
   "id": "83b48cb4",
   "metadata": {},
   "outputs": [],
   "source": [
    "# Dividing into independent feature matrix & dependent variable\n",
    "X = dataset.iloc[:, :-1].values\n",
    "y = dataset.iloc[:, -1].values"
   ]
  },
  {
   "cell_type": "code",
   "execution_count": 5,
   "id": "c700f4f7",
   "metadata": {},
   "outputs": [],
   "source": [
    "# Encode the labels\n",
    "encoder = LabelEncoder()\n",
    "encoder.fit(y)\n",
    "y = encoder.transform(y)\n",
    "y = np_utils.to_categorical(y)"
   ]
  },
  {
   "cell_type": "code",
   "execution_count": 6,
   "id": "0d70b808",
   "metadata": {},
   "outputs": [],
   "source": [
    "# Feature Scaling - Standardization\n",
    "sc = StandardScaler()\n",
    "X = sc.fit_transform(X)"
   ]
  },
  {
   "cell_type": "code",
   "execution_count": 7,
   "id": "7025a4da",
   "metadata": {},
   "outputs": [],
   "source": [
    "# Splitting the dataset into Training & Testing subsets\n",
    "X_train, X_test, y_train, y_test = train_test_split(X, y, test_size=0.3, random_state=0)"
   ]
  },
  {
   "cell_type": "code",
   "execution_count": 8,
   "id": "a390e608",
   "metadata": {},
   "outputs": [],
   "source": [
    "# Reshape the input data for LSTM\n",
    "X_train = X_train.reshape(X_train.shape[0], X_train.shape[1], 1)\n",
    "X_test = X_test.reshape(X_test.shape[0], X_test.shape[1], 1)"
   ]
  },
  {
   "cell_type": "code",
   "execution_count": 9,
   "id": "55776c32",
   "metadata": {},
   "outputs": [],
   "source": [
    "# Building the LSTM model\n",
    "model = Sequential()\n",
    "model.add(LSTM(100, input_shape=(X_train.shape[1], 1)))\n",
    "model.add(Dense(y.shape[1], activation='softmax'))"
   ]
  },
  {
   "cell_type": "code",
   "execution_count": 10,
   "id": "f2083bc8",
   "metadata": {},
   "outputs": [],
   "source": [
    "# Compiling the model\n",
    "model.compile(loss='categorical_crossentropy', optimizer='adam', metrics=['accuracy'])"
   ]
  },
  {
   "cell_type": "code",
   "execution_count": 11,
   "id": "abbe0de7",
   "metadata": {
    "scrolled": true
   },
   "outputs": [
    {
     "name": "stdout",
     "output_type": "stream",
     "text": [
      "Epoch 1/6\n",
      "8722/8722 [==============================] - 127s 14ms/step - loss: 0.3945 - accuracy: 0.8245 - val_loss: 0.3304 - val_accuracy: 0.8576\n",
      "Epoch 2/6\n",
      "8722/8722 [==============================] - 117s 13ms/step - loss: 0.3057 - accuracy: 0.8689 - val_loss: 0.2950 - val_accuracy: 0.8728\n",
      "Epoch 3/6\n",
      "8722/8722 [==============================] - 117s 13ms/step - loss: 0.2833 - accuracy: 0.8787 - val_loss: 0.2784 - val_accuracy: 0.8811\n",
      "Epoch 4/6\n",
      "8722/8722 [==============================] - 121s 14ms/step - loss: 0.2716 - accuracy: 0.8841 - val_loss: 0.2733 - val_accuracy: 0.8822\n",
      "Epoch 5/6\n",
      "8722/8722 [==============================] - 134s 15ms/step - loss: 0.2638 - accuracy: 0.8874 - val_loss: 0.2701 - val_accuracy: 0.8831\n",
      "Epoch 6/6\n",
      "8722/8722 [==============================] - 129s 15ms/step - loss: 0.2577 - accuracy: 0.8899 - val_loss: 0.2672 - val_accuracy: 0.8848\n"
     ]
    },
    {
     "data": {
      "text/plain": [
       "<keras.callbacks.History at 0x1d4398fcbb0>"
      ]
     },
     "execution_count": 11,
     "metadata": {},
     "output_type": "execute_result"
    }
   ],
   "source": [
    "# Training the model\n",
    "model.fit(X_train, y_train, epochs=6, batch_size=64, validation_data=(X_test, y_test))\n"
   ]
  },
  {
   "cell_type": "code",
   "execution_count": 13,
   "id": "cd6deaa3",
   "metadata": {
    "scrolled": true
   },
   "outputs": [
    {
     "name": "stdout",
     "output_type": "stream",
     "text": [
      "7476/7476 [==============================] - 40s 5ms/step - loss: 0.2672 - accuracy: 0.8848\n",
      "Accuracy: 88.48\n"
     ]
    }
   ],
   "source": [
    "# Evaluating the model\n",
    "_, accuracy = model.evaluate(X_test, y_test)\n",
    "print(\"Accuracy: %.2f\" % (accuracy * 100))"
   ]
  },
  {
   "cell_type": "code",
   "execution_count": 14,
   "id": "ba8fbc0d",
   "metadata": {},
   "outputs": [
    {
     "name": "stdout",
     "output_type": "stream",
     "text": [
      "7476/7476 [==============================] - 36s 5ms/step\n"
     ]
    },
    {
     "data": {
      "image/png": "[encoded data removed]",
      "text/plain": [
       "<Figure size 800x600 with 1 Axes>"
      ]
     },
     "metadata": {},
     "output_type": "display_data"
    }
   ],
   "source": [
    "import seaborn as sns\n",
    "import matplotlib.pyplot as plt\n",
    "from sklearn.metrics import confusion_matrix\n",
    "import numpy as np\n",
    "\n",
    "# Assuming you've already trained your model and have it ready\n",
    "\n",
    "# Step 1: Make predictions on the test dataset\n",
    "y_pred = model.predict(X_test)\n",
    "\n",
    "# Convert predictions to class labels\n",
    "y_pred_labels = np.argmax(y_pred, axis=1)\n",
    "y_true_labels = np.argmax(y_test, axis=1)\n",
    "\n",
    "# Step 2: Compute the confusion matrix\n",
    "confusion = confusion_matrix(y_true_labels, y_pred_labels)\n",
    "\n",
    "# Step 3: Calculate the ratio of sample_out/total_samples\n",
    "confusion_ratio = confusion.astype('float') / confusion.sum(axis=1)[:, np.newaxis]\n",
    "\n",
    "# Step 4: Use Seaborn to visualize the confusion matrix\n",
    "plt.figure(figsize=(8, 6))\n",
    "sns.set(font_scale=1.2)  # Adjust font size if needed\n",
    "\n",
    "# Create a heatmap\n",
    "sns.heatmap(confusion_ratio, annot=True, cmap=\"YlGnBu\", fmt=\".2f\", cbar=False)\n",
    "\n",
    "# Set axis labels and title\n",
    "plt.xlabel(\"Predicted Labels\")\n",
    "plt.ylabel(\"True Labels\")\n",
    "plt.title(\"Confusion Matrix (Sample Ratio)\")\n",
    "plt.savefig('cmlstm.png')\n",
    "# Show the plot\n",
    "plt.show()\n"
   ]
  },
  {
   "cell_type": "code",
   "execution_count": null,
   "id": "3504d8f6",
   "metadata": {},
   "outputs": [],
   "source": []
  }
 ],
 "metadata": {
  "kernelspec": {
   "display_name": "Python 3 (ipykernel)",
   "language": "python",
   "name": "python3"
  },
  "language_info": {
   "codemirror_mode": {
    "name": "ipython",
    "version": 3
   },
   "file_extension": ".py",
   "mimetype": "text/x-python",
   "name": "python",
   "nbconvert_exporter": "python",
   "pygments_lexer": "ipython3",
   "version": "3.9.18"
  }
 },
 "nbformat": 4,
 "nbformat_minor": 5
}
