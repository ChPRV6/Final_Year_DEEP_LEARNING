{
 "cells": [
  {
   "cell_type": "code",
   "execution_count": 1,
   "id": "14916c43",
   "metadata": {},
   "outputs": [],
   "source": [
    "# Importing necessary libraries\n",
    "import pandas as pd\n",
    "import numpy as np\n",
    "import os\n",
    "import glob\n",
    "from sklearn.model_selection import train_test_split\n",
    "from sklearn.preprocessing import StandardScaler, LabelEncoder\n",
    "from keras.models import Sequential\n",
    "from keras.layers import Conv1D, Dense, Activation, MaxPooling1D, Flatten\n",
    "from keras.utils import np_utils"
   ]
  },
  {
   "cell_type": "code",
   "execution_count": 2,
   "id": "6234ad5f",
   "metadata": {},
   "outputs": [],
   "source": [
    "root_directory = 'C:/Users/saisr/OneDrive/Desktop/random forest model/EMG Physical Action Data Set'\n",
    "\n",
    "# Use glob to find all CSV files in the subfolders\n",
    "csv_files = glob.glob(os.path.join(root_directory, '*/*.csv'))\n",
    "\n",
    "# Concatenate all CSV files into a single DataFrame\n",
    "dataset = pd.concat(map(pd.read_csv, csv_files))\n",
    "dataset = dataset.sample(frac = 1).reset_index(drop = True)\n",
    "dataset.dropna(axis = 0, inplace = True)"
   ]
  },
  {
   "cell_type": "code",
   "execution_count": 3,
   "id": "c79e9ca4",
   "metadata": {},
   "outputs": [],
   "source": [
    "# Dividing into independent feature matrix & dependent variable\n",
    "X = dataset.iloc[:, :-1].values\n",
    "y = dataset.iloc[:, -1].values"
   ]
  },
  {
   "cell_type": "code",
   "execution_count": 4,
   "id": "cee4eaa7",
   "metadata": {},
   "outputs": [],
   "source": [
    "\n",
    "# Encode the labels\n",
    "encoder = LabelEncoder()\n",
    "encoder.fit(y)\n",
    "y = encoder.transform(y)\n",
    "y = np_utils.to_categorical(y)"
   ]
  },
  {
   "cell_type": "code",
   "execution_count": 5,
   "id": "ede83509",
   "metadata": {},
   "outputs": [],
   "source": [
    "# Feature Scaling - Standardization\n",
    "sc = StandardScaler()\n",
    "X = sc.fit(X).transform(X)\n",
    "\n",
    "# Reshape the input data for CNN\n",
    "X = X.reshape(X.shape[0], X.shape[1], 1)"
   ]
  },
  {
   "cell_type": "code",
   "execution_count": 6,
   "id": "6d95f8b4",
   "metadata": {},
   "outputs": [],
   "source": [
    "# Building the CNN model\n",
    "model = Sequential()\n",
    "model.add(Conv1D(filters=64, kernel_size=3, activation='relu', input_shape=(X.shape[1], 1)))\n",
    "model.add(MaxPooling1D(pool_size=2))\n",
    "model.add(Flatten())\n",
    "model.add(Dense(y.shape[1], activation='softmax'))"
   ]
  },
  {
   "cell_type": "code",
   "execution_count": 7,
   "id": "de6a76c4",
   "metadata": {},
   "outputs": [],
   "source": [
    "# Compiling the model\n",
    "model.compile(loss='categorical_crossentropy', optimizer='adam', metrics=['accuracy'])\n",
    "\n",
    "# Splitting the dataset into Training & Testing subsets\n",
    "X_train, X_test, y_train, y_test = train_test_split(X, y, test_size=0.3, random_state=0)"
   ]
  },
  {
   "cell_type": "code",
   "execution_count": 8,
   "id": "4d8a74da",
   "metadata": {},
   "outputs": [
    {
     "name": "stdout",
     "output_type": "stream",
     "text": [
      "Epoch 1/60\n",
      "8722/8722 [==============================] - 46s 5ms/step - loss: 0.4524 - accuracy: 0.7965 - val_loss: 0.4282 - val_accuracy: 0.8117\n",
      "Epoch 2/60\n",
      "8722/8722 [==============================] - 44s 5ms/step - loss: 0.4227 - accuracy: 0.8147 - val_loss: 0.4258 - val_accuracy: 0.8141\n",
      "Epoch 3/60\n",
      "8722/8722 [==============================] - 47s 5ms/step - loss: 0.4171 - accuracy: 0.8184 - val_loss: 0.4164 - val_accuracy: 0.8200\n",
      "Epoch 4/60\n",
      "8722/8722 [==============================] - 45s 5ms/step - loss: 0.4133 - accuracy: 0.8209 - val_loss: 0.4126 - val_accuracy: 0.8225\n",
      "Epoch 5/60\n",
      "8722/8722 [==============================] - 50s 6ms/step - loss: 0.4104 - accuracy: 0.8223 - val_loss: 0.4153 - val_accuracy: 0.8173\n",
      "Epoch 6/60\n",
      "8722/8722 [==============================] - 66s 8ms/step - loss: 0.4086 - accuracy: 0.8237 - val_loss: 0.4224 - val_accuracy: 0.8189\n",
      "Epoch 7/60\n",
      "8722/8722 [==============================] - 68s 8ms/step - loss: 0.4071 - accuracy: 0.8246 - val_loss: 0.4081 - val_accuracy: 0.8260\n",
      "Epoch 8/60\n",
      "8722/8722 [==============================] - 69s 8ms/step - loss: 0.4058 - accuracy: 0.8260 - val_loss: 0.4049 - val_accuracy: 0.8266\n",
      "Epoch 9/60\n",
      "8722/8722 [==============================] - 66s 8ms/step - loss: 0.4047 - accuracy: 0.8264 - val_loss: 0.4050 - val_accuracy: 0.8270\n",
      "Epoch 10/60\n",
      "8722/8722 [==============================] - 64s 7ms/step - loss: 0.4038 - accuracy: 0.8270 - val_loss: 0.4027 - val_accuracy: 0.8287\n",
      "Epoch 11/60\n",
      "8722/8722 [==============================] - 65s 7ms/step - loss: 0.4030 - accuracy: 0.8276 - val_loss: 0.4125 - val_accuracy: 0.8200\n",
      "Epoch 12/60\n",
      "8722/8722 [==============================] - 62s 7ms/step - loss: 0.4025 - accuracy: 0.8276 - val_loss: 0.4026 - val_accuracy: 0.8280\n",
      "Epoch 13/60\n",
      "8722/8722 [==============================] - 64s 7ms/step - loss: 0.4014 - accuracy: 0.8283 - val_loss: 0.4002 - val_accuracy: 0.8287\n",
      "Epoch 14/60\n",
      "8722/8722 [==============================] - 63s 7ms/step - loss: 0.4011 - accuracy: 0.8285 - val_loss: 0.4029 - val_accuracy: 0.8291\n",
      "Epoch 15/60\n",
      "8722/8722 [==============================] - 63s 7ms/step - loss: 0.4003 - accuracy: 0.8289 - val_loss: 0.4048 - val_accuracy: 0.8265\n",
      "Epoch 16/60\n",
      "8722/8722 [==============================] - 62s 7ms/step - loss: 0.3996 - accuracy: 0.8290 - val_loss: 0.4041 - val_accuracy: 0.8295\n",
      "Epoch 17/60\n",
      "8722/8722 [==============================] - 61s 7ms/step - loss: 0.3994 - accuracy: 0.8295 - val_loss: 0.4036 - val_accuracy: 0.8261\n",
      "Epoch 18/60\n",
      "8722/8722 [==============================] - 57s 7ms/step - loss: 0.3988 - accuracy: 0.8296 - val_loss: 0.4025 - val_accuracy: 0.8265\n",
      "Epoch 19/60\n",
      "8722/8722 [==============================] - 45s 5ms/step - loss: 0.3986 - accuracy: 0.8294 - val_loss: 0.4074 - val_accuracy: 0.8215\n",
      "Epoch 20/60\n",
      "8722/8722 [==============================] - 40s 5ms/step - loss: 0.3980 - accuracy: 0.8300 - val_loss: 0.3984 - val_accuracy: 0.8286\n",
      "Epoch 21/60\n",
      "8722/8722 [==============================] - 42s 5ms/step - loss: 0.3977 - accuracy: 0.8300 - val_loss: 0.3977 - val_accuracy: 0.8299\n",
      "Epoch 22/60\n",
      "8722/8722 [==============================] - 40s 5ms/step - loss: 0.3975 - accuracy: 0.8303 - val_loss: 0.3993 - val_accuracy: 0.8310\n",
      "Epoch 23/60\n",
      "8722/8722 [==============================] - 42s 5ms/step - loss: 0.3969 - accuracy: 0.8307 - val_loss: 0.3966 - val_accuracy: 0.8318\n",
      "Epoch 24/60\n",
      "8722/8722 [==============================] - 41s 5ms/step - loss: 0.3968 - accuracy: 0.8308 - val_loss: 0.4110 - val_accuracy: 0.8261\n",
      "Epoch 25/60\n",
      "8722/8722 [==============================] - 42s 5ms/step - loss: 0.3964 - accuracy: 0.8308 - val_loss: 0.4015 - val_accuracy: 0.8265\n",
      "Epoch 26/60\n",
      "8722/8722 [==============================] - 40s 5ms/step - loss: 0.3963 - accuracy: 0.8312 - val_loss: 0.3953 - val_accuracy: 0.8312\n",
      "Epoch 27/60\n",
      "8722/8722 [==============================] - 40s 5ms/step - loss: 0.3962 - accuracy: 0.8311 - val_loss: 0.3996 - val_accuracy: 0.8310\n",
      "Epoch 28/60\n",
      "8722/8722 [==============================] - 42s 5ms/step - loss: 0.3958 - accuracy: 0.8313 - val_loss: 0.4090 - val_accuracy: 0.8233\n",
      "Epoch 29/60\n",
      "8722/8722 [==============================] - 40s 5ms/step - loss: 0.3955 - accuracy: 0.8315 - val_loss: 0.3951 - val_accuracy: 0.8337\n",
      "Epoch 30/60\n",
      "8722/8722 [==============================] - 41s 5ms/step - loss: 0.3954 - accuracy: 0.8312 - val_loss: 0.3979 - val_accuracy: 0.8325\n",
      "Epoch 31/60\n",
      "8722/8722 [==============================] - 40s 5ms/step - loss: 0.3951 - accuracy: 0.8312 - val_loss: 0.3976 - val_accuracy: 0.8311\n",
      "Epoch 32/60\n",
      "8722/8722 [==============================] - 42s 5ms/step - loss: 0.3951 - accuracy: 0.8316 - val_loss: 0.3947 - val_accuracy: 0.8325\n",
      "Epoch 33/60\n",
      "8722/8722 [==============================] - 40s 5ms/step - loss: 0.3950 - accuracy: 0.8316 - val_loss: 0.3979 - val_accuracy: 0.8286\n",
      "Epoch 34/60\n",
      "8722/8722 [==============================] - 40s 5ms/step - loss: 0.3950 - accuracy: 0.8316 - val_loss: 0.3973 - val_accuracy: 0.8331\n",
      "Epoch 35/60\n",
      "8722/8722 [==============================] - 39s 4ms/step - loss: 0.3944 - accuracy: 0.8317 - val_loss: 0.3941 - val_accuracy: 0.8315\n",
      "Epoch 36/60\n",
      "8722/8722 [==============================] - 39s 4ms/step - loss: 0.3944 - accuracy: 0.8315 - val_loss: 0.3986 - val_accuracy: 0.8314\n",
      "Epoch 37/60\n",
      "8722/8722 [==============================] - 37s 4ms/step - loss: 0.3945 - accuracy: 0.8318 - val_loss: 0.4022 - val_accuracy: 0.8308\n",
      "Epoch 38/60\n",
      "8722/8722 [==============================] - 39s 5ms/step - loss: 0.3941 - accuracy: 0.8320 - val_loss: 0.3931 - val_accuracy: 0.8325\n",
      "Epoch 39/60\n",
      "8722/8722 [==============================] - 40s 5ms/step - loss: 0.3939 - accuracy: 0.8318 - val_loss: 0.3946 - val_accuracy: 0.8320\n",
      "Epoch 40/60\n",
      "8722/8722 [==============================] - 40s 5ms/step - loss: 0.3942 - accuracy: 0.8318 - val_loss: 0.4158 - val_accuracy: 0.8164\n",
      "Epoch 41/60\n",
      "8722/8722 [==============================] - 39s 4ms/step - loss: 0.3936 - accuracy: 0.8322 - val_loss: 0.3975 - val_accuracy: 0.8329\n",
      "Epoch 42/60\n",
      "8722/8722 [==============================] - 44s 5ms/step - loss: 0.3937 - accuracy: 0.8317 - val_loss: 0.3938 - val_accuracy: 0.8333\n",
      "Epoch 43/60\n",
      "8722/8722 [==============================] - 40s 5ms/step - loss: 0.3934 - accuracy: 0.8323 - val_loss: 0.3980 - val_accuracy: 0.8323\n",
      "Epoch 44/60\n",
      "8722/8722 [==============================] - 43s 5ms/step - loss: 0.3934 - accuracy: 0.8320 - val_loss: 0.3936 - val_accuracy: 0.8321\n",
      "Epoch 45/60\n",
      "8722/8722 [==============================] - 40s 5ms/step - loss: 0.3935 - accuracy: 0.8321 - val_loss: 0.3922 - val_accuracy: 0.8343\n",
      "Epoch 46/60\n",
      "8722/8722 [==============================] - 57s 7ms/step - loss: 0.3935 - accuracy: 0.8322 - val_loss: 0.3973 - val_accuracy: 0.8292\n",
      "Epoch 47/60\n",
      "8722/8722 [==============================] - 58s 7ms/step - loss: 0.3935 - accuracy: 0.8324 - val_loss: 0.3981 - val_accuracy: 0.8326\n",
      "Epoch 48/60\n",
      "8722/8722 [==============================] - 61s 7ms/step - loss: 0.3935 - accuracy: 0.8319 - val_loss: 0.3958 - val_accuracy: 0.8322\n",
      "Epoch 49/60\n",
      "8722/8722 [==============================] - 56s 6ms/step - loss: 0.3935 - accuracy: 0.8326 - val_loss: 0.3948 - val_accuracy: 0.8316\n",
      "Epoch 50/60\n",
      "8722/8722 [==============================] - 42s 5ms/step - loss: 0.3932 - accuracy: 0.8324 - val_loss: 0.3914 - val_accuracy: 0.8340\n",
      "Epoch 51/60\n",
      "8722/8722 [==============================] - 42s 5ms/step - loss: 0.3930 - accuracy: 0.8322 - val_loss: 0.3980 - val_accuracy: 0.8282\n",
      "Epoch 52/60\n",
      "8722/8722 [==============================] - 43s 5ms/step - loss: 0.3931 - accuracy: 0.8321 - val_loss: 0.3993 - val_accuracy: 0.8271\n",
      "Epoch 53/60\n",
      "8722/8722 [==============================] - 42s 5ms/step - loss: 0.3930 - accuracy: 0.8321 - val_loss: 0.3954 - val_accuracy: 0.8295\n",
      "Epoch 54/60\n",
      "8722/8722 [==============================] - 41s 5ms/step - loss: 0.3932 - accuracy: 0.8322 - val_loss: 0.4005 - val_accuracy: 0.8259\n",
      "Epoch 55/60\n",
      "8722/8722 [==============================] - 42s 5ms/step - loss: 0.3930 - accuracy: 0.8325 - val_loss: 0.3930 - val_accuracy: 0.8341\n",
      "Epoch 56/60\n",
      "8722/8722 [==============================] - 41s 5ms/step - loss: 0.3931 - accuracy: 0.8321 - val_loss: 0.3963 - val_accuracy: 0.8296\n",
      "Epoch 57/60\n",
      "8722/8722 [==============================] - 40s 5ms/step - loss: 0.3926 - accuracy: 0.8327 - val_loss: 0.3970 - val_accuracy: 0.8316\n",
      "Epoch 58/60\n",
      "8722/8722 [==============================] - 39s 4ms/step - loss: 0.3928 - accuracy: 0.8325 - val_loss: 0.3938 - val_accuracy: 0.8332\n",
      "Epoch 59/60\n",
      "8722/8722 [==============================] - 42s 5ms/step - loss: 0.3928 - accuracy: 0.8322 - val_loss: 0.3942 - val_accuracy: 0.8327\n",
      "Epoch 60/60\n",
      "8722/8722 [==============================] - 39s 4ms/step - loss: 0.3930 - accuracy: 0.8324 - val_loss: 0.3912 - val_accuracy: 0.8338\n"
     ]
    },
    {
     "data": {
      "text/plain": [
       "<keras.callbacks.History at 0x2d57a417700>"
      ]
     },
     "execution_count": 8,
     "metadata": {},
     "output_type": "execute_result"
    }
   ],
   "source": [
    "# Training the model\n",
    "model.fit(X_train, y_train, epochs=60, batch_size=64, validation_data=(X_test, y_test))"
   ]
  },
  {
   "cell_type": "code",
   "execution_count": 9,
   "id": "28d1833c",
   "metadata": {},
   "outputs": [
    {
     "name": "stdout",
     "output_type": "stream",
     "text": [
      "7476/7476 [==============================] - 19s 3ms/step - loss: 0.3912 - accuracy: 0.8338\n",
      "Accuracy: 83.38\n"
     ]
    }
   ],
   "source": [
    "# Evaluating the model\n",
    "_, accuracy = model.evaluate(X_test, y_test)\n",
    "print(\"Accuracy: %.2f\" % (accuracy * 100))"
   ]
  },
  {
   "cell_type": "code",
   "execution_count": 11,
   "id": "4423c965",
   "metadata": {},
   "outputs": [
    {
     "name": "stdout",
     "output_type": "stream",
     "text": [
      "7476/7476 [==============================] - 16s 2ms/step\n"
     ]
    },
    {
     "data": {
      "image/png": "[encoded data removed]",
      "text/plain": [
       "<Figure size 800x600 with 1 Axes>"
      ]
     },
     "metadata": {},
     "output_type": "display_data"
    }
   ],
   "source": [
    "import seaborn as sns\n",
    "import matplotlib.pyplot as plt\n",
    "from sklearn.metrics import confusion_matrix\n",
    "import numpy as np\n",
    "\n",
    "# Assuming you've already trained your model and have it ready\n",
    "\n",
    "# Step 1: Make predictions on the test dataset\n",
    "y_pred = model.predict(X_test)\n",
    "\n",
    "# Convert predictions to class labels\n",
    "y_pred_labels = np.argmax(y_pred, axis=1)\n",
    "y_true_labels = np.argmax(y_test, axis=1)\n",
    "\n",
    "# Step 2: Compute the confusion matrix\n",
    "confusion = confusion_matrix(y_true_labels, y_pred_labels)\n",
    "\n",
    "# Step 3: Calculate the ratio of sample_out/total_samples\n",
    "confusion_ratio = confusion.astype('float') / confusion.sum(axis=1)[:, np.newaxis]\n",
    "\n",
    "# Step 4: Use Seaborn to visualize the confusion matrix\n",
    "plt.figure(figsize=(8, 6))\n",
    "sns.set(font_scale=1.2)  # Adjust font size if needed\n",
    "\n",
    "# Create a heatmap\n",
    "sns.heatmap(confusion_ratio, annot=True, cmap=\"YlGnBu\", fmt=\".2f\", cbar=False)\n",
    "\n",
    "# Set axis labels and title\n",
    "plt.xlabel(\"Predicted Labels\")\n",
    "plt.ylabel(\"True Labels\")\n",
    "plt.title(\"Confusion Matrix (Sample Ratio)\")\n",
    "plt.savefig('cmcnn.png')\n",
    "# Show the plot\n",
    "plt.show()"
   ]
  },
  {
   "cell_type": "code",
   "execution_count": null,
   "id": "6627725b",
   "metadata": {},
   "outputs": [],
   "source": []
  }
 ],
 "metadata": {
  "kernelspec": {
   "display_name": "Python 3 (ipykernel)",
   "language": "python",
   "name": "python3"
  },
  "language_info": {
   "codemirror_mode": {
    "name": "ipython",
    "version": 3
   },
   "file_extension": ".py",
   "mimetype": "text/x-python",
   "name": "python",
   "nbconvert_exporter": "python",
   "pygments_lexer": "ipython3",
   "version": "3.11.4"
  }
 },
 "nbformat": 4,
 "nbformat_minor": 5
}
